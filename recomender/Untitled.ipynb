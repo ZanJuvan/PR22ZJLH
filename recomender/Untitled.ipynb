{
 "cells": [
  {
   "cell_type": "code",
   "execution_count": 17,
   "id": "727a9120",
   "metadata": {},
   "outputs": [],
   "source": [
    "import pandas as pd\n",
    "\n",
    "# Read the CSV file\n",
    "df = pd.read_csv('tcc_ceds_music.csv')\n",
    "\n",
    "pd.options.display.float_format = '{:.12f}'.format\n",
    "\n",
    "\n",
    "# Format float columns to 12 decimal places\n",
    "float_columns = ['dating','violence','world/life','night/time','shake the audience','family/gospel','romantic','communication','obscene','music','movement/places','light/visual perceptions','family/spiritual','like/girls','sadness','feelings','danceability','loudness','acousticness','instrumentalness','valence','energy']\n",
    "columns_to_delete = ['a','topic', 'age', 'lyrics','genre','len','release_date']\n",
    "df = df.drop(columns=columns_to_delete)\n",
    "# Save the updated CSV file\n",
    "df = df.sample(n=1000, random_state=42)  # Adjust the random_state as desired for reproducibility\n",
    "string_columns = ['artist_name', 'track_name']\n",
    "symbol_pattern = r'[^\\w\\s]'\n",
    "df[string_columns] = df[string_columns].replace(to_replace=symbol_pattern, value='', regex=True)\n",
    "df.to_csv('updated_file2.csv', index=False, float_format='%.12f')\n"
   ]
  },
  {
   "cell_type": "code",
   "execution_count": null,
   "id": "ab0ef4e3",
   "metadata": {},
   "outputs": [],
   "source": []
  }
 ],
 "metadata": {
  "kernelspec": {
   "display_name": "Python 3 (ipykernel)",
   "language": "python",
   "name": "python3"
  },
  "language_info": {
   "codemirror_mode": {
    "name": "ipython",
    "version": 3
   },
   "file_extension": ".py",
   "mimetype": "text/x-python",
   "name": "python",
   "nbconvert_exporter": "python",
   "pygments_lexer": "ipython3",
   "version": "3.9.13"
  }
 },
 "nbformat": 4,
 "nbformat_minor": 5
}
